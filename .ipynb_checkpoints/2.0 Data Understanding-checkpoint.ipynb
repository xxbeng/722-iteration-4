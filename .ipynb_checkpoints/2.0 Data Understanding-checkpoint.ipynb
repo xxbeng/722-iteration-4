{
 "cells": [
  {
   "cell_type": "code",
   "execution_count": 1,
   "id": "c6321ab4",
   "metadata": {},
   "outputs": [
    {
     "name": "stderr",
     "output_type": "stream",
     "text": [
      "WARNING: An illegal reflective access operation has occurred\n",
      "WARNING: Illegal reflective access by org.apache.spark.unsafe.Platform (file:/home/ubuntu/spark-3.2.1-bin-hadoop2.7/jars/spark-unsafe_2.12-3.2.1.jar) to constructor java.nio.DirectByteBuffer(long,int)\n",
      "WARNING: Please consider reporting this to the maintainers of org.apache.spark.unsafe.Platform\n",
      "WARNING: Use --illegal-access=warn to enable warnings of further illegal reflective access operations\n",
      "WARNING: All illegal access operations will be denied in a future release\n",
      "Using Spark's default log4j profile: org/apache/spark/log4j-defaults.properties\n",
      "Setting default log level to \"WARN\".\n",
      "To adjust logging level use sc.setLogLevel(newLevel). For SparkR, use setLogLevel(newLevel).\n",
      "24/05/17 09:00:12 WARN NativeCodeLoader: Unable to load native-hadoop library for your platform... using builtin-java classes where applicable\n"
     ]
    }
   ],
   "source": [
    "import findspark\n",
    "findspark.init('/home/ubuntu/spark-3.2.1-bin-hadoop2.7')\n",
    "import pyspark\n",
    "from pyspark.sql import SparkSession\n",
    "spark = SparkSession.builder \\\n",
    "    .appName('heart-disease-mining') \\\n",
    "    .config('spark.sql.debug.maxToStringFields', 10000) \\\n",
    "    .getOrCreate()"
   ]
  },
  {
   "cell_type": "code",
   "execution_count": 2,
   "id": "974d3bbf",
   "metadata": {},
   "outputs": [
    {
     "name": "stderr",
     "output_type": "stream",
     "text": [
      "                                                                                \r"
     ]
    },
    {
     "data": {
      "text/plain": [
       "445132"
      ]
     },
     "execution_count": 2,
     "metadata": {},
     "output_type": "execute_result"
    }
   ],
   "source": [
    "# 2.1 data collection\n",
    "df = spark.read.option(\"header\", \"true\").option(\"inferSchema\", \"true\").csv('Datasets/heart_2022_with_nans.csv')\n",
    "df.count()"
   ]
  },
  {
   "cell_type": "code",
   "execution_count": 3,
   "id": "ac08549f",
   "metadata": {},
   "outputs": [
    {
     "name": "stdout",
     "output_type": "stream",
     "text": [
      "The history saving thread hit an unexpected error (OperationalError('database or disk is full')).History will not be written to the database.\n",
      "root\n",
      " |-- State: string (nullable = true)\n",
      " |-- Sex: string (nullable = true)\n",
      " |-- GeneralHealth: string (nullable = true)\n",
      " |-- PhysicalHealthDays: double (nullable = true)\n",
      " |-- MentalHealthDays: double (nullable = true)\n",
      " |-- LastCheckupTime: string (nullable = true)\n",
      " |-- PhysicalActivities: string (nullable = true)\n",
      " |-- SleepHours: double (nullable = true)\n",
      " |-- RemovedTeeth: string (nullable = true)\n",
      " |-- HadHeartAttack: string (nullable = true)\n",
      " |-- HadAngina: string (nullable = true)\n",
      " |-- HadStroke: string (nullable = true)\n",
      " |-- HadAsthma: string (nullable = true)\n",
      " |-- HadSkinCancer: string (nullable = true)\n",
      " |-- HadCOPD: string (nullable = true)\n",
      " |-- HadDepressiveDisorder: string (nullable = true)\n",
      " |-- HadKidneyDisease: string (nullable = true)\n",
      " |-- HadArthritis: string (nullable = true)\n",
      " |-- HadDiabetes: string (nullable = true)\n",
      " |-- DeafOrHardOfHearing: string (nullable = true)\n",
      " |-- BlindOrVisionDifficulty: string (nullable = true)\n",
      " |-- DifficultyConcentrating: string (nullable = true)\n",
      " |-- DifficultyWalking: string (nullable = true)\n",
      " |-- DifficultyDressingBathing: string (nullable = true)\n",
      " |-- DifficultyErrands: string (nullable = true)\n",
      " |-- SmokerStatus: string (nullable = true)\n",
      " |-- ECigaretteUsage: string (nullable = true)\n",
      " |-- ChestScan: string (nullable = true)\n",
      " |-- RaceEthnicityCategory: string (nullable = true)\n",
      " |-- AgeCategory: string (nullable = true)\n",
      " |-- HeightInMeters: double (nullable = true)\n",
      " |-- WeightInKilograms: double (nullable = true)\n",
      " |-- BMI: double (nullable = true)\n",
      " |-- AlcoholDrinkers: string (nullable = true)\n",
      " |-- HIVTesting: string (nullable = true)\n",
      " |-- FluVaxLast12: string (nullable = true)\n",
      " |-- PneumoVaxEver: string (nullable = true)\n",
      " |-- TetanusLast10Tdap: string (nullable = true)\n",
      " |-- HighRiskLastYear: string (nullable = true)\n",
      " |-- CovidPos: string (nullable = true)\n",
      "\n"
     ]
    }
   ],
   "source": [
    "# Describing data\n",
    "df.printSchema()"
   ]
  },
  {
   "cell_type": "code",
   "execution_count": 5,
   "id": "90de2ba3",
   "metadata": {},
   "outputs": [
    {
     "data": {
      "text/plain": [
       "['State',\n",
       " 'Sex',\n",
       " 'GeneralHealth',\n",
       " 'PhysicalHealthDays',\n",
       " 'MentalHealthDays',\n",
       " 'LastCheckupTime',\n",
       " 'PhysicalActivities',\n",
       " 'SleepHours',\n",
       " 'RemovedTeeth',\n",
       " 'HadHeartAttack',\n",
       " 'HadAngina',\n",
       " 'HadStroke',\n",
       " 'HadAsthma',\n",
       " 'HadSkinCancer',\n",
       " 'HadCOPD',\n",
       " 'HadDepressiveDisorder',\n",
       " 'HadKidneyDisease',\n",
       " 'HadArthritis',\n",
       " 'HadDiabetes',\n",
       " 'DeafOrHardOfHearing',\n",
       " 'BlindOrVisionDifficulty',\n",
       " 'DifficultyConcentrating',\n",
       " 'DifficultyWalking',\n",
       " 'DifficultyDressingBathing',\n",
       " 'DifficultyErrands',\n",
       " 'SmokerStatus',\n",
       " 'ECigaretteUsage',\n",
       " 'ChestScan',\n",
       " 'RaceEthnicityCategory',\n",
       " 'AgeCategory',\n",
       " 'HeightInMeters',\n",
       " 'WeightInKilograms',\n",
       " 'BMI',\n",
       " 'AlcoholDrinkers',\n",
       " 'HIVTesting',\n",
       " 'FluVaxLast12',\n",
       " 'PneumoVaxEver',\n",
       " 'TetanusLast10Tdap',\n",
       " 'HighRiskLastYear',\n",
       " 'CovidPos']"
      ]
     },
     "execution_count": 5,
     "metadata": {},
     "output_type": "execute_result"
    }
   ],
   "source": [
    "# Exploring the data\n",
    "df.columns"
   ]
  },
  {
   "cell_type": "code",
   "execution_count": null,
   "id": "9eb1ce4b",
   "metadata": {},
   "outputs": [],
   "source": []
  }
 ],
 "metadata": {
  "kernelspec": {
   "display_name": "Python 3 (ipykernel)",
   "language": "python",
   "name": "python3"
  },
  "language_info": {
   "codemirror_mode": {
    "name": "ipython",
    "version": 3
   },
   "file_extension": ".py",
   "mimetype": "text/x-python",
   "name": "python",
   "nbconvert_exporter": "python",
   "pygments_lexer": "ipython3",
   "version": "3.10.12"
  }
 },
 "nbformat": 4,
 "nbformat_minor": 5
}
