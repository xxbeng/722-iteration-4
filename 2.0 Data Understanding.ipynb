{
 "cells": [
  {
   "cell_type": "code",
   "execution_count": 1,
   "id": "c6321ab4",
   "metadata": {},
   "outputs": [
    {
     "name": "stderr",
     "output_type": "stream",
     "text": [
      "WARNING: An illegal reflective access operation has occurred\n",
      "WARNING: Illegal reflective access by org.apache.spark.unsafe.Platform (file:/home/ubuntu/spark-3.2.1-bin-hadoop2.7/jars/spark-unsafe_2.12-3.2.1.jar) to constructor java.nio.DirectByteBuffer(long,int)\n",
      "WARNING: Please consider reporting this to the maintainers of org.apache.spark.unsafe.Platform\n",
      "WARNING: Use --illegal-access=warn to enable warnings of further illegal reflective access operations\n",
      "WARNING: All illegal access operations will be denied in a future release\n",
      "Using Spark's default log4j profile: org/apache/spark/log4j-defaults.properties\n",
      "Setting default log level to \"WARN\".\n",
      "To adjust logging level use sc.setLogLevel(newLevel). For SparkR, use setLogLevel(newLevel).\n",
      "24/05/19 07:59:23 WARN NativeCodeLoader: Unable to load native-hadoop library for your platform... using builtin-java classes where applicable\n"
     ]
    }
   ],
   "source": [
    "import findspark\n",
    "findspark.init('/home/ubuntu/spark-3.2.1-bin-hadoop2.7')\n",
    "import pyspark\n",
    "from pyspark.sql import SparkSession\n",
    "spark = SparkSession.builder \\\n",
    "    .appName('heart-disease-mining') \\\n",
    "    .config(\"spark.sql.debug.maxToStringFields\", 1000) \\\n",
    "    .getOrCreate()"
   ]
  },
  {
   "cell_type": "code",
   "execution_count": 2,
   "id": "974d3bbf",
   "metadata": {},
   "outputs": [
    {
     "name": "stderr",
     "output_type": "stream",
     "text": [
      "                                                                                \r"
     ]
    },
    {
     "data": {
      "text/plain": [
       "445132"
      ]
     },
     "execution_count": 2,
     "metadata": {},
     "output_type": "execute_result"
    }
   ],
   "source": [
    "# 2.1 data collection\n",
    "df = spark.read.option(\"header\", \"true\").option(\"inferSchema\", \"true\").csv('Datasets/heart_2022_with_nans.csv')\n",
    "df.count()"
   ]
  },
  {
   "cell_type": "code",
   "execution_count": 3,
   "id": "ac08549f",
   "metadata": {},
   "outputs": [
    {
     "name": "stdout",
     "output_type": "stream",
     "text": [
      "root\n",
      " |-- State: string (nullable = true)\n",
      " |-- Sex: string (nullable = true)\n",
      " |-- GeneralHealth: string (nullable = true)\n",
      " |-- PhysicalHealthDays: double (nullable = true)\n",
      " |-- MentalHealthDays: double (nullable = true)\n",
      " |-- LastCheckupTime: string (nullable = true)\n",
      " |-- PhysicalActivities: string (nullable = true)\n",
      " |-- SleepHours: double (nullable = true)\n",
      " |-- RemovedTeeth: string (nullable = true)\n",
      " |-- HadHeartAttack: string (nullable = true)\n",
      " |-- HadAngina: string (nullable = true)\n",
      " |-- HadStroke: string (nullable = true)\n",
      " |-- HadAsthma: string (nullable = true)\n",
      " |-- HadSkinCancer: string (nullable = true)\n",
      " |-- HadCOPD: string (nullable = true)\n",
      " |-- HadDepressiveDisorder: string (nullable = true)\n",
      " |-- HadKidneyDisease: string (nullable = true)\n",
      " |-- HadArthritis: string (nullable = true)\n",
      " |-- HadDiabetes: string (nullable = true)\n",
      " |-- DeafOrHardOfHearing: string (nullable = true)\n",
      " |-- BlindOrVisionDifficulty: string (nullable = true)\n",
      " |-- DifficultyConcentrating: string (nullable = true)\n",
      " |-- DifficultyWalking: string (nullable = true)\n",
      " |-- DifficultyDressingBathing: string (nullable = true)\n",
      " |-- DifficultyErrands: string (nullable = true)\n",
      " |-- SmokerStatus: string (nullable = true)\n",
      " |-- ECigaretteUsage: string (nullable = true)\n",
      " |-- ChestScan: string (nullable = true)\n",
      " |-- RaceEthnicityCategory: string (nullable = true)\n",
      " |-- AgeCategory: string (nullable = true)\n",
      " |-- HeightInMeters: double (nullable = true)\n",
      " |-- WeightInKilograms: double (nullable = true)\n",
      " |-- BMI: double (nullable = true)\n",
      " |-- AlcoholDrinkers: string (nullable = true)\n",
      " |-- HIVTesting: string (nullable = true)\n",
      " |-- FluVaxLast12: string (nullable = true)\n",
      " |-- PneumoVaxEver: string (nullable = true)\n",
      " |-- TetanusLast10Tdap: string (nullable = true)\n",
      " |-- HighRiskLastYear: string (nullable = true)\n",
      " |-- CovidPos: string (nullable = true)\n",
      "\n"
     ]
    }
   ],
   "source": [
    "# Describing data\n",
    "df.printSchema()"
   ]
  },
  {
   "cell_type": "code",
   "execution_count": 4,
   "id": "90de2ba3",
   "metadata": {},
   "outputs": [
    {
     "data": {
      "text/plain": [
       "['State',\n",
       " 'Sex',\n",
       " 'GeneralHealth',\n",
       " 'PhysicalHealthDays',\n",
       " 'MentalHealthDays',\n",
       " 'LastCheckupTime',\n",
       " 'PhysicalActivities',\n",
       " 'SleepHours',\n",
       " 'RemovedTeeth',\n",
       " 'HadHeartAttack',\n",
       " 'HadAngina',\n",
       " 'HadStroke',\n",
       " 'HadAsthma',\n",
       " 'HadSkinCancer',\n",
       " 'HadCOPD',\n",
       " 'HadDepressiveDisorder',\n",
       " 'HadKidneyDisease',\n",
       " 'HadArthritis',\n",
       " 'HadDiabetes',\n",
       " 'DeafOrHardOfHearing',\n",
       " 'BlindOrVisionDifficulty',\n",
       " 'DifficultyConcentrating',\n",
       " 'DifficultyWalking',\n",
       " 'DifficultyDressingBathing',\n",
       " 'DifficultyErrands',\n",
       " 'SmokerStatus',\n",
       " 'ECigaretteUsage',\n",
       " 'ChestScan',\n",
       " 'RaceEthnicityCategory',\n",
       " 'AgeCategory',\n",
       " 'HeightInMeters',\n",
       " 'WeightInKilograms',\n",
       " 'BMI',\n",
       " 'AlcoholDrinkers',\n",
       " 'HIVTesting',\n",
       " 'FluVaxLast12',\n",
       " 'PneumoVaxEver',\n",
       " 'TetanusLast10Tdap',\n",
       " 'HighRiskLastYear',\n",
       " 'CovidPos']"
      ]
     },
     "execution_count": 4,
     "metadata": {},
     "output_type": "execute_result"
    }
   ],
   "source": [
    "# Exploring the data\n",
    "df.columns"
   ]
  },
  {
   "cell_type": "code",
   "execution_count": 6,
   "id": "9eb1ce4b",
   "metadata": {},
   "outputs": [
    {
     "name": "stderr",
     "output_type": "stream",
     "text": [
      "                                                                                \r"
     ]
    },
    {
     "data": {
      "image/png": "[encoded data removed]",
      "text/plain": [
       "<Figure size 576x432 with 1 Axes>"
      ]
     },
     "metadata": {
      "needs_background": "light"
     },
     "output_type": "display_data"
    },
    {
     "name": "stderr",
     "output_type": "stream",
     "text": [
      "                                                                                \r"
     ]
    },
    {
     "data": {
      "image/png": "[encoded data removed]",
      "text/plain": [
       "<Figure size 576x432 with 1 Axes>"
      ]
     },
     "metadata": {
      "needs_background": "light"
     },
     "output_type": "display_data"
    }
   ],
   "source": [
    "#2.3 Explore the data\n",
    "import matplotlib.pyplot as plt\n",
    "\n",
    "# Filter out null values in 'HadHeartAttack' and 'HadAngina' columns\n",
    "df_filtered = df.filter(df['HadHeartAttack'].isNotNull() & df['HadAngina'].isNotNull())\n",
    "\n",
    "# Count the values for 'HadHeartAttack'\n",
    "had_heart_attack_counts = df_filtered.groupBy('HadHeartAttack').count().orderBy('HadHeartAttack').collect()\n",
    "\n",
    "# Extract keys and values for 'HadHeartAttack'\n",
    "had_heart_attack_keys = [row['HadHeartAttack'] for row in had_heart_attack_counts]\n",
    "had_heart_attack_values = [row['count'] for row in had_heart_attack_counts]\n",
    "\n",
    "# Plot the counts for 'HadHeartAttack'\n",
    "plt.figure(figsize=(8, 6))\n",
    "plt.bar(had_heart_attack_keys, had_heart_attack_values)\n",
    "plt.xlabel('HadHeartAttack')\n",
    "plt.ylabel('Count')\n",
    "plt.show()\n",
    "\n",
    "# Count the values for 'HadAngina'\n",
    "had_angina_counts = df_filtered.groupBy('HadAngina').count().orderBy('HadAngina').collect()\n",
    "\n",
    "# Extract keys and values for 'HadAngina'\n",
    "had_angina_keys = [row['HadAngina'] for row in had_angina_counts]\n",
    "had_angina_values = [row['count'] for row in had_angina_counts]\n",
    "\n",
    "# Plot the counts for 'HadAngina'\n",
    "plt.figure(figsize=(8, 6))\n",
    "plt.bar(had_angina_keys, had_angina_values)\n",
    "plt.xlabel('HadAngina')\n",
    "plt.ylabel('Count')\n",
    "plt.show()\n"
   ]
  },
  {
   "cell_type": "code",
   "execution_count": 5,
   "id": "eb568d83",
   "metadata": {},
   "outputs": [
    {
     "name": "stderr",
     "output_type": "stream",
     "text": [
      "                                                                                \r"
     ]
    },
    {
     "data": {
      "image/png": "[encoded data removed]",
      "text/plain": [
       "<Figure size 576x432 with 1 Axes>"
      ]
     },
     "metadata": {
      "needs_background": "light"
     },
     "output_type": "display_data"
    },
    {
     "name": "stderr",
     "output_type": "stream",
     "text": [
      "                                                                                \r"
     ]
    },
    {
     "name": "stdout",
     "output_type": "stream",
     "text": [
      "+-------------+------+-----+----+\n",
      "|Sex_HadAngina|    No|  Yes|null|\n",
      "+-------------+------+-----+----+\n",
      "|         Male|191463|15480|2296|\n",
      "|       Female|222713|11071|2109|\n",
      "+-------------+------+-----+----+\n",
      "\n"
     ]
    },
    {
     "name": "stderr",
     "output_type": "stream",
     "text": [
      "\r",
      "[Stage 11:>                                                         (0 + 2) / 2]\r"
     ]
    },
    {
     "name": "stdout",
     "output_type": "stream",
     "text": [
      "+------------------+------+-----+----+\n",
      "|Sex_HadHeartAttack|    No|  Yes|null|\n",
      "+------------------+------+-----+----+\n",
      "|              Male|192131|15417|1691|\n",
      "|            Female|224828| 9691|1374|\n",
      "+------------------+------+-----+----+\n",
      "\n"
     ]
    },
    {
     "name": "stderr",
     "output_type": "stream",
     "text": [
      "\r",
      "                                                                                \r"
     ]
    }
   ],
   "source": [
    "#2.3 Explore the data\n",
    "import matplotlib.pyplot as plt\n",
    "# Value counts for 'Sex'\n",
    "sex_counts = df.groupBy('Sex').count().collect()\n",
    "\n",
    "# Extract keys and values for 'Sex'\n",
    "sex_keys = [row['Sex'] for row in sex_counts]\n",
    "sex_values = [row['count'] for row in sex_counts]\n",
    "\n",
    "# Plot the counts for 'Sex'\n",
    "plt.figure(figsize=(8, 6))\n",
    "plt.bar(sex_keys, sex_values)\n",
    "plt.xlabel('Sex')\n",
    "plt.ylabel('Count')\n",
    "plt.title('Value Counts of Sex')\n",
    "plt.show()\n",
    "\n",
    "# Crosstab for 'Sex' vs 'HadAngina'\n",
    "crosstab_sex_hadangina = df.stat.crosstab(\"Sex\", \"HadAngina\")\n",
    "crosstab_sex_hadangina.show()\n",
    "\n",
    "# Crosstab for 'Sex' vs 'HadHeartAttack'\n",
    "crosstab_sex_hadheartattack = df.stat.crosstab(\"Sex\", \"HadHeartAttack\")\n",
    "crosstab_sex_hadheartattack.show()\n"
   ]
  },
  {
   "cell_type": "code",
   "execution_count": 6,
   "id": "47b58271",
   "metadata": {},
   "outputs": [
    {
     "name": "stderr",
     "output_type": "stream",
     "text": [
      "24/05/19 04:08:47 WARN package: Truncated the string representation of a plan since it was too large. This behavior can be adjusted by setting 'spark.sql.debug.maxToStringFields'.\n",
      "                                                                                \r"
     ]
    },
    {
     "data": {
      "image/png": "[encoded data removed]",
      "text/plain": [
       "<Figure size 720x432 with 1 Axes>"
      ]
     },
     "metadata": {
      "needs_background": "light"
     },
     "output_type": "display_data"
    },
    {
     "data": {
      "image/png": "[encoded data removed]",
      "text/plain": [
       "<Figure size 720x432 with 1 Axes>"
      ]
     },
     "metadata": {
      "needs_background": "light"
     },
     "output_type": "display_data"
    }
   ],
   "source": [
    "#2.3 Explore the data\n",
    "import seaborn as sns\n",
    "\n",
    "# Filter out rows with null values \n",
    "df_filtered = df.filter(df['PhysicalActivities'].isNotNull() & df['HadAngina'].isNotNull() & df['HadHeartAttack'].isNotNull())\n",
    "\n",
    "# Convert to Pandas DataFrame for plotting\n",
    "df_pandas = df_filtered.toPandas()\n",
    "\n",
    "# Plot using Seaborn for PhysicalActivities and HadAngina\n",
    "plt.figure(figsize=(10, 6))\n",
    "sns.countplot(x='PhysicalActivities', hue='HadAngina', data=df_pandas)\n",
    "plt.xlabel('PhysicalActivities')\n",
    "plt.ylabel('Count')\n",
    "plt.title('PhysicalActivities by HadAngina')\n",
    "plt.show()\n",
    "\n",
    "# Plot using Seaborn for PhysicalActivities and HadHeartAttack\n",
    "plt.figure(figsize=(10, 6))\n",
    "sns.countplot(x='PhysicalActivities', hue='HadHeartAttack', data=df_pandas)\n",
    "plt.xlabel('PhysicalActivities')\n",
    "plt.ylabel('Count')\n",
    "plt.title('PhysicalActivities by HadHeartAttack')\n",
    "plt.show()"
   ]
  },
  {
   "cell_type": "code",
   "execution_count": 6,
   "id": "b8d5da0a",
   "metadata": {
    "scrolled": true
   },
   "outputs": [
    {
     "name": "stderr",
     "output_type": "stream",
     "text": [
      "                                                                                \r"
     ]
    },
    {
     "ename": "NameError",
     "evalue": "name 'sns' is not defined",
     "output_type": "error",
     "traceback": [
      "\u001b[0;31m---------------------------------------------------------------------------\u001b[0m",
      "\u001b[0;31mNameError\u001b[0m                                 Traceback (most recent call last)",
      "Input \u001b[0;32mIn [6]\u001b[0m, in \u001b[0;36m<cell line: 9>\u001b[0;34m()\u001b[0m\n\u001b[1;32m      7\u001b[0m \u001b[38;5;66;03m# Plot using Seaborn for PhysicalActivities and HadAngina\u001b[39;00m\n\u001b[1;32m      8\u001b[0m plt\u001b[38;5;241m.\u001b[39mfigure(figsize\u001b[38;5;241m=\u001b[39m(\u001b[38;5;241m10\u001b[39m, \u001b[38;5;241m6\u001b[39m))\n\u001b[0;32m----> 9\u001b[0m \u001b[43msns\u001b[49m\u001b[38;5;241m.\u001b[39mcountplot(x\u001b[38;5;241m=\u001b[39m\u001b[38;5;124m'\u001b[39m\u001b[38;5;124mPneumoVaxEver\u001b[39m\u001b[38;5;124m'\u001b[39m, hue\u001b[38;5;241m=\u001b[39m\u001b[38;5;124m'\u001b[39m\u001b[38;5;124mHadAngina\u001b[39m\u001b[38;5;124m'\u001b[39m, data\u001b[38;5;241m=\u001b[39mdf_pandas)\n\u001b[1;32m     10\u001b[0m plt\u001b[38;5;241m.\u001b[39mxlabel(\u001b[38;5;124m'\u001b[39m\u001b[38;5;124mPneumoVaxEver\u001b[39m\u001b[38;5;124m'\u001b[39m)\n\u001b[1;32m     11\u001b[0m plt\u001b[38;5;241m.\u001b[39mylabel(\u001b[38;5;124m'\u001b[39m\u001b[38;5;124mCount\u001b[39m\u001b[38;5;124m'\u001b[39m)\n",
      "\u001b[0;31mNameError\u001b[0m: name 'sns' is not defined"
     ]
    },
    {
     "data": {
      "text/plain": [
       "<Figure size 720x432 with 0 Axes>"
      ]
     },
     "metadata": {},
     "output_type": "display_data"
    }
   ],
   "source": [
    "\n",
    "# Filter out rows with null values \n",
    "df_filtered = df.filter(df['PneumoVaxEver'].isNotNull() & df['HadAngina'].isNotNull() & df['HadHeartAttack'].isNotNull())\n",
    "\n",
    "# Convert to Pandas DataFrame for plotting\n",
    "df_pandas = df_filtered.toPandas()\n",
    "\n",
    "# Plot using Seaborn for PhysicalActivities and HadAngina\n",
    "plt.figure(figsize=(10, 6))\n",
    "sns.countplot(x='PneumoVaxEver', hue='HadAngina', data=df_pandas)\n",
    "plt.xlabel('PneumoVaxEver')\n",
    "plt.ylabel('Count')\n",
    "plt.title('PneumoVaxEver by HadAngina')\n",
    "plt.show()\n",
    "\n",
    "# Plot using Seaborn for PhysicalActivities and HadHeartAttack\n",
    "plt.figure(figsize=(10, 6))\n",
    "sns.countplot(x='PneumoVaxEver', hue='HadHeartAttack', data=df_pandas)\n",
    "plt.xlabel('PneumoVaxEver')\n",
    "plt.ylabel('Count')\n",
    "plt.title('PneumoVaxEver by HadHeartAttack')\n",
    "plt.show()"
   ]
  },
  {
   "cell_type": "code",
   "execution_count": 17,
   "id": "2be3c9b0",
   "metadata": {},
   "outputs": [
    {
     "name": "stderr",
     "output_type": "stream",
     "text": [
      "                                                                                \r"
     ]
    },
    {
     "name": "stdout",
     "output_type": "stream",
     "text": [
      "+---------------------------+------+-----+\n",
      "|BMI_Category_HadHeartAttack|    No|  Yes|\n",
      "+---------------------------+------+-----+\n",
      "|                       < 30|246815|13443|\n",
      "|                      >= 30|122043| 8476|\n",
      "+---------------------------+------+-----+\n",
      "\n"
     ]
    },
    {
     "name": "stderr",
     "output_type": "stream",
     "text": [
      "                                                                                \r"
     ]
    },
    {
     "name": "stdout",
     "output_type": "stream",
     "text": [
      "+----------------------+------+-----+\n",
      "|BMI_Category_HadAngina|    No|  Yes|\n",
      "+----------------------+------+-----+\n",
      "|                  < 30|245842|14416|\n",
      "|                 >= 30|120861| 9658|\n",
      "+----------------------+------+-----+\n",
      "\n",
      "Crosstab and Percentage of BMI Category and HadHeartAttack:\n",
      "  BMI_Category_HadHeartAttack      No    Yes   Total  Percentage_Yes\n",
      "0                        < 30  246815  13443  260258        5.165259\n",
      "1                       >= 30  122043   8476  130519        6.494074\n",
      "\n",
      "Crosstab and Percentage of BMI Category and HadAngina:\n",
      "  BMI_Category_HadAngina      No    Yes   Total  Percentage_Yes\n",
      "0                   < 30  245842  14416  260258        5.539119\n",
      "1                  >= 30  120861   9658  130519        7.399689\n"
     ]
    }
   ],
   "source": [
    "from pyspark.sql.functions import when\n",
    "\n",
    "df_filtered = df.filter(df['BMI'].isNotNull() & df['HadHeartAttack'].isNotNull() & df['HadAngina'].isNotNull())\n",
    "\n",
    "# Create a new column for BMI category\n",
    "df_filtered = df_filtered.withColumn('BMI_Category', when(df['BMI'] >= 30, '>= 30').otherwise('< 30'))\n",
    "\n",
    "# Create Crosstab for BMI_Category and HadHeartAttack\n",
    "crosstab_heartattack = df_filtered.stat.crosstab('BMI_Category', 'HadHeartAttack')\n",
    "crosstab_heartattack.show()\n",
    "\n",
    "# Create Crosstab for BMI_Category and HadAngina\n",
    "crosstab_angina = df_filtered.stat.crosstab('BMI_Category', 'HadAngina')\n",
    "crosstab_angina.show()\n",
    "\n",
    "# Convert crosstabs to Pandas DataFrames for easier calculation and visualization\n",
    "crosstab_heartattack_pandas = crosstab_heartattack.toPandas()\n",
    "crosstab_angina_pandas = crosstab_angina.toPandas()\n",
    "\n",
    "# Calculate percentage of 'Yes' for HadHeartAttack\n",
    "crosstab_heartattack_pandas['Total'] = crosstab_heartattack_pandas['No'] + crosstab_heartattack_pandas['Yes']\n",
    "crosstab_heartattack_pandas['Percentage_Yes'] = (crosstab_heartattack_pandas['Yes'] / crosstab_heartattack_pandas['Total']) * 100\n",
    "\n",
    "# Calculate percentage of 'Yes' for HadAngina\n",
    "crosstab_angina_pandas['Total'] = crosstab_angina_pandas['No'] + crosstab_angina_pandas['Yes']\n",
    "crosstab_angina_pandas['Percentage_Yes'] = (crosstab_angina_pandas['Yes'] / crosstab_angina_pandas['Total']) * 100\n",
    "\n",
    "print(\"Crosstab and Percentage of BMI Category and HadHeartAttack:\")\n",
    "print(crosstab_heartattack_pandas)\n",
    "\n",
    "print(\"\\nCrosstab and Percentage of BMI Category and HadAngina:\")\n",
    "print(crosstab_angina_pandas)\n"
   ]
  },
  {
   "cell_type": "code",
   "execution_count": 7,
   "id": "65ba111f",
   "metadata": {},
   "outputs": [
    {
     "name": "stderr",
     "output_type": "stream",
     "text": [
      "                                                                                \r"
     ]
    },
    {
     "name": "stdout",
     "output_type": "stream",
     "text": [
      "+---------------------------+------+----+\n",
      "|SmokerStatus_HadHeartAttack|    No| Yes|\n",
      "+---------------------------+------+----+\n",
      "|       Current smoker - ...| 12760| 923|\n",
      "|              Former smoker|102472|9291|\n",
      "|               Never smoked|234264|8913|\n",
      "|       Current smoker - ...| 32251|2961|\n",
      "+---------------------------+------+----+\n",
      "\n"
     ]
    },
    {
     "name": "stderr",
     "output_type": "stream",
     "text": [
      "                                                                                \r"
     ]
    },
    {
     "name": "stdout",
     "output_type": "stream",
     "text": [
      "+----------------------+------+-----+\n",
      "|SmokerStatus_HadAngina|    No|  Yes|\n",
      "+----------------------+------+-----+\n",
      "|  Current smoker - ...| 12895|  788|\n",
      "|         Former smoker|101366|10397|\n",
      "|          Never smoked|232481|10696|\n",
      "|  Current smoker - ...| 32689| 2523|\n",
      "+----------------------+------+-----+\n",
      "\n",
      "Crosstab and Percentage of SmokerStatus and HadHeartAttack:\n",
      "             SmokerStatus_HadHeartAttack      No   Yes   Total  Percentage_Yes\n",
      "0  Current smoker - now smokes some days   12760   923   13683        6.745597\n",
      "1                          Former smoker  102472  9291  111763        8.313127\n",
      "2                           Never smoked  234264  8913  243177        3.665231\n",
      "3  Current smoker - now smokes every day   32251  2961   35212        8.409065\n",
      "\n",
      "Crosstab and Percentage of SmokerStatus and HadAngina:\n",
      "                  SmokerStatus_HadAngina      No    Yes   Total  \\\n",
      "0  Current smoker - now smokes some days   12895    788   13683   \n",
      "1                          Former smoker  101366  10397  111763   \n",
      "2                           Never smoked  232481  10696  243177   \n",
      "3  Current smoker - now smokes every day   32689   2523   35212   \n",
      "\n",
      "   Percentage_Yes  \n",
      "0        5.758971  \n",
      "1        9.302721  \n",
      "2        4.398442  \n",
      "3        7.165171  \n"
     ]
    }
   ],
   "source": [
    "df_filtered = df.filter(df['SmokerStatus'].isNotNull() & df['HadHeartAttack'].isNotNull() & df['HadAngina'].isNotNull())\n",
    "\n",
    "# Create Crosstab for SmokerStatus and HadHeartAttack\n",
    "crosstab_heartattack = df_filtered.stat.crosstab('SmokerStatus', 'HadHeartAttack')\n",
    "crosstab_heartattack.show()\n",
    "\n",
    "# Create Crosstab for SmokerStatus and HadAngina\n",
    "crosstab_angina = df_filtered.stat.crosstab('SmokerStatus', 'HadAngina')\n",
    "crosstab_angina.show()\n",
    "\n",
    "# Convert crosstabs to Pandas DataFrames for easier calculation and visualization\n",
    "crosstab_heartattack_pandas = crosstab_heartattack.toPandas()\n",
    "crosstab_angina_pandas = crosstab_angina.toPandas()\n",
    "\n",
    "# Calculate percentage of 'Yes' for HadHeartAttack\n",
    "crosstab_heartattack_pandas['Total'] = crosstab_heartattack_pandas['No'] + crosstab_heartattack_pandas['Yes']\n",
    "crosstab_heartattack_pandas['Percentage_Yes'] = (crosstab_heartattack_pandas['Yes'] / crosstab_heartattack_pandas['Total']) * 100\n",
    "\n",
    "# Calculate percentage of 'Yes' for HadAngina\n",
    "crosstab_angina_pandas['Total'] = crosstab_angina_pandas['No'] + crosstab_angina_pandas['Yes']\n",
    "crosstab_angina_pandas['Percentage_Yes'] = (crosstab_angina_pandas['Yes'] / crosstab_angina_pandas['Total']) * 100\n",
    "\n",
    "print(\"Crosstab and Percentage of SmokerStatus and HadHeartAttack:\")\n",
    "print(crosstab_heartattack_pandas)\n",
    "\n",
    "print(\"\\nCrosstab and Percentage of SmokerStatus and HadAngina:\")\n",
    "print(crosstab_angina_pandas)\n",
    "\n"
   ]
  },
  {
   "cell_type": "code",
   "execution_count": null,
   "id": "f06f9731",
   "metadata": {},
   "outputs": [],
   "source": []
  }
 ],
 "metadata": {
  "kernelspec": {
   "display_name": "Python 3 (ipykernel)",
   "language": "python",
   "name": "python3"
  },
  "language_info": {
   "codemirror_mode": {
    "name": "ipython",
    "version": 3
   },
   "file_extension": ".py",
   "mimetype": "text/x-python",
   "name": "python",
   "nbconvert_exporter": "python",
   "pygments_lexer": "ipython3",
   "version": "3.10.12"
  }
 },
 "nbformat": 4,
 "nbformat_minor": 5
}
